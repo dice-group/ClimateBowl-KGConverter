{
  "cells": [
    {
      "cell_type": "code",
      "execution_count": null,
      "metadata": {
        "id": "HPV4N8-Iimlt"
      },
      "outputs": [],
      "source": [
        "import pandas as pd\n",
        "from rdflib import Graph, Namespace, URIRef, Literal, XSD\n",
        "from rdflib.namespace import RDF, OWL, FOAF,RDFS\n",
        "import numpy as np"
      ]
    },
    {
      "cell_type": "code",
      "execution_count": null,
      "metadata": {
        "id": "OxVOxqRJ9pa5"
      },
      "outputs": [],
      "source": [
        "g = Graph()\n",
        "\n",
        "# create namespce for process resource and ontology\n",
        "CLBR = Namespace(\"https://climatebowl.data.dice-research.org/resource/\")\n",
        "g.bind(\"clbr\",CLBR)\n",
        "\n",
        "CLBO = Namespace(\"https://climatebowl.data.dice-research.org/ontology/\")\n",
        "g.bind(\"clbo\", CLBO)\n",
        "\n",
        "ontology_file = \"ontology.ttl\"\n",
        "g.parse(ontology_file, format=\"turtle\")"
      ]
    },
    {
      "cell_type": "code",
      "execution_count": null,
      "metadata": {},
      "outputs": [],
      "source": [
        "\n",
        "def process_excel_to_rdf(pcf_sheet, Process_worksheet_name, company, product):\n",
        "    # Define the namespace\n",
        "    CLBO = Namespace(\"https://climatebowl.data.dice-research.org/ontology/\")\n",
        "    # Read the Excel sheet\n",
        "    df = pd.read_excel(pcf_sheet, header=3)\n",
        "    \n",
        "    # Fill NaN values with an empty string\n",
        "    df = df.fillna(\"\")\n",
        "    print(df)\n",
        "    \n",
        "    \n",
        "    # Initialize the graph\n",
        "    g = Graph()\n",
        "    \n",
        "    # Create URIs for the company and product\n",
        "    companyURI = URIRef(f\"https://climatebowl.data.dice-research.org/resource/company_{company}\")\n",
        "    g.add((companyURI, RDF.type, CLBO.Company))\n",
        "    g.add((companyURI, RDFS.label, Literal(company)))\n",
        "\n",
        "    productURI = URIRef(f\"https://climatebowl.data.dice-research.org/resource/product_{company}_{product}\")\n",
        "    g.add((productURI, RDF.type, CLBO.Product))\n",
        "    g.add((productURI, RDFS.label, Literal(product)))\n",
        "    g.add((companyURI, CLBO.hatProduct, productURI))\n",
        "\n",
        "    # Process each row in the dataframe\n",
        "    prozess_no = 1\n",
        "    fluzz_input = 1\n",
        "    emission_no = 1\n",
        "    material_no = 1\n",
        "\n",
        "    for index, row in df.iterrows():\n",
        "        # Create URIs for the process and fluzz resource\n",
        "        prozess_uri = URIRef(f\"https://climatebowl.data.dice-research.org/resource/Prozess_{company}_{product}_{prozess_no}\")\n",
        "        fluzz_resouce_uri = URIRef(f\"https://climatebowl.data.dice-research.org/resource/{company}_{product}_InputProzess_{prozess_no - 1}Fluzz{fluzz_input}\")\n",
        "        hat_io_ontology_uri = URIRef(f\"https://climatebowl.data.dice-research.org/ontology/hatInput\")\n",
        "        \n",
        "        g.add((prozess_uri, RDF.type, CLBO.Prozess))\n",
        "        g.add((productURI, CLBO.hatProzess, prozess_uri))\n",
        "        g.add((prozess_uri, CLBO.prozessmodul, Literal(row[\"Prozessmodul\"])))\n",
        "        g.add((prozess_uri, CLBO.zuordnungTeilenummer, Literal(row[\"Zuordnung Komponente\"])))\n",
        "        g.add((prozess_uri, hat_io_ontology_uri, fluzz_resouce_uri))\n",
        "        \n",
        "        # Process the fluzz resource\n",
        "        g.add((fluzz_resouce_uri, RDF.type, CLBO.Fluss))\n",
        "        relevantPCF = row[\"relevant für PCF\"] == \"x\"\n",
        "        g.add((fluzz_resouce_uri, CLBO.relevantPCF, Literal(relevantPCF, datatype=XSD.boolean)))\n",
        "        \n",
        "        if row[\"Zuordnung Wertschöpfungskette\"]:\n",
        "            g.add((fluzz_resouce_uri, CLBO.zuordnungWertschöpfungskette, Literal(row[\"Zuordnung Wertschöpfungskette\"])))\n",
        "        if row[\"Scope\"]:\n",
        "            g.add((fluzz_resouce_uri, CLBO.scope, Literal(row[\"Scope\"])))\n",
        "        if row[\"Lebenszyklusphase\"]:\n",
        "            g.add((fluzz_resouce_uri, CLBO.lebenszyklusphase, Literal(row[\"Lebenszyklusphase\"])))\n",
        "        \n",
        "        # Process kategorie fluss\n",
        "        kategoryFluss = str(row['Kategorie Fluss']).replace(\" \",\"\")\n",
        "        if kategoryFluss:\n",
        "            kategorie_fluss_uri = URIRef(f\"https://climatebowl.data.dice-research.org/resource/{company}_{product}_{kategoryFluss}{material_no}\")\n",
        "            g.add((fluzz_resouce_uri, CLBO.hatKategorie, kategorie_fluss_uri))\n",
        "            g.add((kategorie_fluss_uri, RDF.type, getattr(CLBO, kategoryFluss)))\n",
        "            g.add((kategorie_fluss_uri, RDFS.label, Literal(row[\"Fluss\"])))\n",
        "            material_no += 1\n",
        "        \n",
        "        # Add resultierende Menge\n",
        "        if row[\"Menge\"]:\n",
        "            g.add((fluzz_resouce_uri, URIRef(f\"https://climatebowl.data.dice-research.org/ontology/resultierendeMengejeJeReferenzfluss\"), Literal(float(row[\"Menge\"]), datatype=XSD.float)))\n",
        "        if row[\"Einheit\"]:\n",
        "            g.add((fluzz_resouce_uri, URIRef(f\"https://climatebowl.data.dice-research.org/ontology/einheitResultierendeMengejeJeReferenzfluss\"), Literal(row[\"Einheit\"])))\n",
        "        \n",
        "        # Add emission factor\n",
        "        emissionFactorURI = URIRef(f\"https://climatebowl.data.dice-research.org/resource/THGEmissionen{emission_no}_{company}_{product}\")\n",
        "        g.add((fluzz_resouce_uri, CLBO.hatEmissionsfaktor, emissionFactorURI))\n",
        "        g.add((emissionFactorURI, RDF.type, CLBO.THGEmissionen))\n",
        "        g.add((emissionFactorURI, CLBO.item, Literal(row[\"Item Emissionsfaktor\"])))\n",
        "        g.add((emissionFactorURI, CLBO.emissionsfaktor, Literal(float(row[\"Emissionsfaktor (GWP100 pro Einheit nach IPCC AR6)\"]), datatype=XSD.float)))\n",
        "        g.add((emissionFactorURI, CLBO.einheit, Literal(row[\"Einheit Emissionsfaktor\"])))\n",
        "        g.add((emissionFactorURI, CLBO.land, Literal(row[\"Region\"])))\n",
        "        g.add((emissionFactorURI, CLBO.jahr, Literal(row[\"Jahr\"])))\n",
        "        g.add((emissionFactorURI, CLBO.datenquelle, Literal(row[\"Datenquelle\"])))\n",
        "        emission_no += 1\n",
        "        \n",
        "        # Add material\n",
        "        materialURI = URIRef(f\"https://climatebowl.data.dice-research.org/resource/material{material_no}_{company}_{product}\")\n",
        "        g.add((materialURI, RDF.type, getattr(CLBO, str(row[\"Gruppe Fluss\"]).replace(\", \", \"_\"))))\n",
        "        g.add((materialURI, CLBO.itemName, Literal(row[\"Fluss\"])))\n",
        "        g.add((materialURI, CLBO.emissionenWert, Literal(float(row[\"Emissionsfaktor (GWP100 pro Einheit nach IPCC AR6)\"]), datatype=XSD.float)))\n",
        "        g.add((materialURI, CLBO.emissionenEinheit, Literal(row[\"Einheit Emissionsfaktor\"])))\n",
        "        g.add((materialURI, CLBO.region, Literal(row[\"Region\"])))\n",
        "        g.add((materialURI, CLBO.jahr, Literal(row[\"Jahr\"])))\n",
        "        material_no += 1\n",
        "        \n",
        "        # Increment process and fluzz input counters\n",
        "        prozess_no += 1\n",
        "        fluzz_input += 1\n",
        "    \n",
        "    return g\n",
        "\n",
        "# Example usage\n",
        "# g = process_excel_to_rdf('path_to_file.xlsx', 'Sheet1', 'company1', 'product1')\n"
      ]
    },
    {
      "cell_type": "code",
      "execution_count": null,
      "metadata": {},
      "outputs": [],
      "source": [
        "import json\n",
        "# Read the JSON data from the file\n",
        "with open(\"data.json\", 'r') as file:\n",
        "    data = json.load(file)\n",
        "\n",
        "# Loop through each item in the JSON data\n",
        "for item in data:\n",
        "    product_name = item['productName']\n",
        "    company_name = item['companyName']\n",
        "    file_name = item['fileName']\n",
        "    sheet_name = item['sheetName']\n",
        "    \n",
        "    # Call the function to process the Excel sheet and add to the RDF graph\n",
        "    g += process_excel_to_rdf(f\"excel_data/{file_name}\", sheet_name, company_name, product_name)\n",
        "\n"
      ]
    },
    {
      "cell_type": "code",
      "execution_count": null,
      "metadata": {
        "id": "ROqRuF_-G9bK"
      },
      "outputs": [],
      "source": [
        "\n",
        "# Export the graph to a Turtle file\n",
        "with open('generatedRDG/knowledgeGraph.ttl', 'w', encoding='utf8') as f:\n",
        "    f.write(g.serialize(format='turtle'))"
      ]
    }
  ],
  "metadata": {
    "colab": {
      "provenance": []
    },
    "kernelspec": {
      "display_name": "Python 3",
      "name": "python3"
    },
    "language_info": {
      "codemirror_mode": {
        "name": "ipython",
        "version": 3
      },
      "file_extension": ".py",
      "mimetype": "text/x-python",
      "name": "python",
      "nbconvert_exporter": "python",
      "pygments_lexer": "ipython3",
      "version": "3.11.9"
    }
  },
  "nbformat": 4,
  "nbformat_minor": 0
}
